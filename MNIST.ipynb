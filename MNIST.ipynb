{
 "cells": [
  {
   "cell_type": "markdown",
   "metadata": {},
   "source": [
    "### Importing Libraries"
   ]
  },
  {
   "cell_type": "code",
   "execution_count": 1,
   "metadata": {},
   "outputs": [],
   "source": [
    "import torch"
   ]
  },
  {
   "cell_type": "code",
   "execution_count": 2,
   "metadata": {},
   "outputs": [],
   "source": [
    "import torchvision"
   ]
  },
  {
   "cell_type": "code",
   "execution_count": 3,
   "metadata": {},
   "outputs": [],
   "source": [
    "from torchvision.datasets import MNIST"
   ]
  },
  {
   "cell_type": "code",
   "execution_count": 6,
   "metadata": {},
   "outputs": [],
   "source": [
    "from torch.utils.data import DataLoader"
   ]
  },
  {
   "cell_type": "code",
   "execution_count": 7,
   "metadata": {},
   "outputs": [],
   "source": [
    "from torchvision import transforms"
   ]
  },
  {
   "cell_type": "code",
   "execution_count": 28,
   "metadata": {},
   "outputs": [],
   "source": [
    "import matplotlib.pyplot as plt"
   ]
  },
  {
   "cell_type": "code",
   "execution_count": 32,
   "metadata": {},
   "outputs": [],
   "source": [
    "from torch import nn"
   ]
  },
  {
   "cell_type": "code",
   "execution_count": 33,
   "metadata": {},
   "outputs": [],
   "source": [
    "import torch.nn.functional as F"
   ]
  },
  {
   "cell_type": "code",
   "execution_count": 37,
   "metadata": {},
   "outputs": [],
   "source": [
    "import torch.optim as optim"
   ]
  },
  {
   "cell_type": "code",
   "execution_count": 100,
   "metadata": {},
   "outputs": [],
   "source": [
    "import time"
   ]
  },
  {
   "cell_type": "markdown",
   "metadata": {},
   "source": [
    "### Loading data"
   ]
  },
  {
   "cell_type": "code",
   "execution_count": 8,
   "metadata": {},
   "outputs": [],
   "source": [
    "transform = transforms.Compose(\n",
    "    [transforms.ToTensor(), \n",
    "     transforms.Normalize((0.5, 0.5, 0.5), (0.5, 0.5, 0.5))])"
   ]
  },
  {
   "cell_type": "code",
   "execution_count": 9,
   "metadata": {},
   "outputs": [
    {
     "name": "stdout",
     "output_type": "stream",
     "text": [
      "Downloading http://yann.lecun.com/exdb/mnist/train-images-idx3-ubyte.gz\n",
      "Downloading http://yann.lecun.com/exdb/mnist/train-labels-idx1-ubyte.gz\n",
      "Downloading http://yann.lecun.com/exdb/mnist/t10k-images-idx3-ubyte.gz\n",
      "Downloading http://yann.lecun.com/exdb/mnist/t10k-labels-idx1-ubyte.gz\n",
      "Processing...\n",
      "Done!\n"
     ]
    }
   ],
   "source": [
    "train_data = MNIST(root = './dataset', train = True, download = True, transform = transform)"
   ]
  },
  {
   "cell_type": "code",
   "execution_count": 10,
   "metadata": {},
   "outputs": [],
   "source": [
    "train_loader = DataLoader(train_data, batch_size = 32, shuffle = True)"
   ]
  },
  {
   "cell_type": "code",
   "execution_count": 13,
   "metadata": {},
   "outputs": [],
   "source": [
    "test_data = MNIST(root = './dataset', train = False, download = True, transform = transform)"
   ]
  },
  {
   "cell_type": "code",
   "execution_count": 14,
   "metadata": {},
   "outputs": [],
   "source": [
    "test_loader = DataLoader(test_data, batch_size = 32, shuffle = False)"
   ]
  },
  {
   "cell_type": "markdown",
   "metadata": {},
   "source": [
    "### Creating Network Class"
   ]
  },
  {
   "cell_type": "code",
   "execution_count": 34,
   "metadata": {},
   "outputs": [],
   "source": [
    "class Network(nn.Module):\n",
    "    def __init__(self, num_inputs, num_outputs):\n",
    "        super(Network, self).__init__()\n",
    "        self.num_inputs = num_inputs\n",
    "        self.num_outputs = num_outputs\n",
    "        self.linear_1 = nn.Linear(self.num_inputs, 512, bias = True)\n",
    "        self.linear_2 = nn.Linear(512, 512)\n",
    "        self.linear_3 = nn.Linear(512, 256)\n",
    "        self.output = nn.Linear(256, 10)\n",
    "    \n",
    "    def forward(self, x):\n",
    "        x = self.linear_1(x)\n",
    "        x = F.relu(x)\n",
    "        x = self.linear_2(x)\n",
    "        x = F.relu(x)\n",
    "        x = self.linear_3(x)\n",
    "        x = F.relu(x)\n",
    "        x = self.output(x)\n",
    "        return x"
   ]
  },
  {
   "cell_type": "code",
   "execution_count": 36,
   "metadata": {},
   "outputs": [
    {
     "data": {
      "text/plain": [
       "Network(\n",
       "  (linear_1): Linear(in_features=784, out_features=512, bias=True)\n",
       "  (linear_2): Linear(in_features=512, out_features=512, bias=True)\n",
       "  (linear_3): Linear(in_features=512, out_features=256, bias=True)\n",
       "  (output): Linear(in_features=256, out_features=10, bias=True)\n",
       ")"
      ]
     },
     "execution_count": 36,
     "metadata": {},
     "output_type": "execute_result"
    }
   ],
   "source": [
    "# Model\n",
    "net = Network(784, 10)\n",
    "net"
   ]
  },
  {
   "cell_type": "code",
   "execution_count": 38,
   "metadata": {},
   "outputs": [],
   "source": [
    "# Optimzer and loss\n",
    "optimizer = optim.Adam(net.parameters(), lr = 0.001)\n",
    "criterion = nn.CrossEntropyLoss()"
   ]
  },
  {
   "cell_type": "code",
   "execution_count": null,
   "metadata": {},
   "outputs": [
    {
     "name": "stdout",
     "output_type": "stream",
     "text": [
      "[1, 200] - loss = 0.16793319454420272 - time = 3.2657690048217773sec\n",
      "[1, 400] - loss = 0.092325203398741 - time = 3.4397964477539062sec\n",
      "[1, 600] - loss = 0.07637373230540107 - time = 3.1547653675079346sec\n",
      "[1, 800] - loss = 0.07129379412621346 - time = 3.15456485748291sec\n",
      "[1, 1000] - loss = 0.06167441463418072 - time = 3.0880486965179443sec\n",
      "[1, 1200] - loss = 0.0578938189028122 - time = 3.1827282905578613sec\n",
      "[1, 1400] - loss = 0.06317535292835601 - time = 3.1503076553344727sec\n",
      "[1, 1600] - loss = 0.058467808939603856 - time = 3.145587682723999sec\n",
      "[1, 1800] - loss = 0.07261471884528874 - time = 3.1576807498931885sec\n",
      "[2, 200] - loss = 0.03949392190054368 - time = 3.142097234725952sec\n",
      "[2, 400] - loss = 0.04247501629341059 - time = 3.179394006729126sec\n",
      "[2, 600] - loss = 0.04118446313662389 - time = 3.1731443405151367sec\n",
      "[2, 800] - loss = 0.05601288870140706 - time = 3.2772364616394043sec\n",
      "[2, 1000] - loss = 0.06030740708798476 - time = 3.3797154426574707sec\n",
      "[2, 1200] - loss = 0.05333562532965232 - time = 3.3141379356384277sec\n",
      "[2, 1400] - loss = 0.05976756097450561 - time = 3.190991163253784sec\n",
      "[2, 1600] - loss = 0.0448623268985989 - time = 3.2612788677215576sec\n",
      "[2, 1800] - loss = 0.06634887369291391 - time = 3.3792307376861572sec\n",
      "[3, 200] - loss = 0.03819310489554482 - time = 3.4327077865600586sec\n",
      "[3, 400] - loss = 0.03999921596765489 - time = 3.3610212802886963sec\n",
      "[3, 600] - loss = 0.04592316904123436 - time = 3.3869433403015137sec\n",
      "[3, 800] - loss = 0.045589601889514594 - time = 3.4658074378967285sec\n",
      "[3, 1000] - loss = 0.03820518246549 - time = 3.1514077186584473sec\n",
      "[3, 1200] - loss = 0.05894328780526848 - time = 3.130103349685669sec\n",
      "[3, 1400] - loss = 0.05399764196333308 - time = 3.129631757736206sec\n",
      "[3, 1600] - loss = 0.04347855831985726 - time = 3.1548473834991455sec\n",
      "[3, 1800] - loss = 0.04073791920608073 - time = 3.199139356613159sec\n",
      "[4, 200] - loss = 0.03192388183915682 - time = 3.146644353866577sec\n",
      "[4, 400] - loss = 0.05789190897623484 - time = 3.2080204486846924sec\n",
      "[4, 600] - loss = 0.0413178334845179 - time = 3.162543535232544sec\n",
      "[4, 800] - loss = 0.040463928764529554 - time = 3.1847147941589355sec\n",
      "[4, 1000] - loss = 0.04457489950147874 - time = 3.166532516479492sec\n",
      "[4, 1200] - loss = 0.06137038949553244 - time = 3.146585464477539sec\n",
      "[4, 1400] - loss = 0.03412329197279178 - time = 3.1728858947753906sec\n",
      "[4, 1600] - loss = 0.03740719380242581 - time = 3.188885450363159sec\n",
      "[4, 1800] - loss = 0.038844923889382696 - time = 3.160454750061035sec\n",
      "[5, 200] - loss = 0.024623436823926568 - time = 3.3338661193847656sec\n",
      "[5, 400] - loss = 0.039876757430420184 - time = 3.4268369674682617sec\n"
     ]
    }
   ],
   "source": [
    "# Training the network\n",
    "start_time = time.time()\n",
    "epochs = 10\n",
    "for e in range(epochs):\n",
    "    running_loss = 0.0\n",
    "    temp_time = time.time()\n",
    "    for i, data in enumerate(train_loader):\n",
    "        # loading data\n",
    "        X, y = data\n",
    "        X = X.view(-1, 784)\n",
    "        # Zero the gradient\n",
    "        optimizer.zero_grad()\n",
    "        pred = net(X)\n",
    "        loss = criterion(pred, y)\n",
    "        loss.backward()\n",
    "        optimizer.step()\n",
    "        \n",
    "        running_loss += loss.item() \n",
    "        if i % 200 == 199:\n",
    "            # Printing average loss of 200 batches\n",
    "            current_time = time.time()\n",
    "            print('[{}, {}] - loss = {} - time = {}sec'.format(e + 1, i + 1, running_loss / 200.0, current_time - temp_time))\n",
    "            running_loss = 0.0\n",
    "            temp_time = current_time\n",
    "end_time = time.time()\n",
    "print('Training Finished')\n",
    "print('total time taken : {}s'.format(end_time - start_time))"
   ]
  },
  {
   "cell_type": "code",
   "execution_count": 65,
   "metadata": {},
   "outputs": [],
   "source": [
    "# Testing model\n",
    "wrong_predictions = 0\n",
    "for i, data in enumerate(test_loader):\n",
    "    images, labels = data\n",
    "    labels = labels.detach().numpy()\n",
    "    images = images.view(-1, 784)\n",
    "    pred = net(images)\n",
    "    pred = torch.max(pred, 1)[1]\n",
    "    pred = pred.detach().numpy()\n",
    "    for p, l in zip(pred, labels):\n",
    "        if p != l:\n",
    "            wrong_predictions += 1"
   ]
  },
  {
   "cell_type": "code",
   "execution_count": 66,
   "metadata": {},
   "outputs": [
    {
     "data": {
      "text/plain": [
       "297"
      ]
     },
     "execution_count": 66,
     "metadata": {},
     "output_type": "execute_result"
    }
   ],
   "source": [
    "wrong_predictions"
   ]
  },
  {
   "cell_type": "markdown",
   "metadata": {},
   "source": [
    "### Training the model on gpu"
   ]
  },
  {
   "cell_type": "code",
   "execution_count": 95,
   "metadata": {},
   "outputs": [],
   "source": [
    "device = torch.device('cuda:0' if torch.cuda.is_available() else 'cpu')"
   ]
  },
  {
   "cell_type": "code",
   "execution_count": 96,
   "metadata": {},
   "outputs": [
    {
     "data": {
      "text/plain": [
       "device(type='cuda', index=0)"
      ]
     },
     "execution_count": 96,
     "metadata": {},
     "output_type": "execute_result"
    }
   ],
   "source": [
    "device"
   ]
  },
  {
   "cell_type": "code",
   "execution_count": 97,
   "metadata": {
    "scrolled": true
   },
   "outputs": [],
   "source": [
    "# Network\n",
    "gpu_net = Network(784, 10)\n",
    "gpu_net = gpu_net.to(device)"
   ]
  },
  {
   "cell_type": "code",
   "execution_count": 98,
   "metadata": {},
   "outputs": [],
   "source": [
    "# Optimzer and loss\n",
    "gpu_optimizer = optim.Adam(gpu_net.parameters(), lr = 0.001)\n",
    "gpu_criterion = nn.CrossEntropyLoss()"
   ]
  },
  {
   "cell_type": "code",
   "execution_count": 106,
   "metadata": {
    "scrolled": true
   },
   "outputs": [
    {
     "name": "stdout",
     "output_type": "stream",
     "text": [
      "[1, 200] : loss = 0.07696884298697114\n",
      "[1, 400] : loss = 0.054524553585797546\n",
      "[1, 600] : loss = 0.07331012662500143\n",
      "[1, 800] : loss = 0.07188409036025405\n",
      "[1, 1000] : loss = 0.07094056952744722\n",
      "[1, 1200] : loss = 0.07267890341579913\n",
      "[1, 1400] : loss = 0.07108556963503361\n",
      "[1, 1600] : loss = 0.0754977654106915\n",
      "[1, 1800] : loss = 0.08181849589571356\n",
      "[2, 200] : loss = 0.0526874057110399\n",
      "[2, 400] : loss = 0.05894044144079089\n",
      "[2, 600] : loss = 0.055674785003066066\n",
      "[2, 800] : loss = 0.06491296039894223\n",
      "[2, 1000] : loss = 0.06255984475836157\n",
      "[2, 1200] : loss = 0.06726265283301473\n",
      "[2, 1400] : loss = 0.05991062329150736\n",
      "[2, 1600] : loss = 0.06864715244621039\n",
      "[2, 1800] : loss = 0.07819341415539384\n",
      "[3, 200] : loss = 0.042140512503683565\n",
      "[3, 400] : loss = 0.0751821862347424\n",
      "[3, 600] : loss = 0.051086862850934264\n",
      "[3, 800] : loss = 0.06155350729823113\n",
      "[3, 1000] : loss = 0.05811148563399911\n",
      "[3, 1200] : loss = 0.07065003241412342\n",
      "[3, 1400] : loss = 0.05912720158696175\n",
      "[3, 1600] : loss = 0.07204400599002839\n",
      "[3, 1800] : loss = 0.051330485846847296\n",
      "[4, 200] : loss = 0.04725337844341993\n",
      "[4, 400] : loss = 0.05088633246719837\n",
      "[4, 600] : loss = 0.05790758049115539\n",
      "[4, 800] : loss = 0.05996012242510915\n",
      "[4, 1000] : loss = 0.049791298862546685\n",
      "[4, 1200] : loss = 0.04763373794034123\n",
      "[4, 1400] : loss = 0.04730403635650873\n",
      "[4, 1600] : loss = 0.06560573793016374\n",
      "[4, 1800] : loss = 0.05867605603300035\n",
      "[5, 200] : loss = 0.04413971583358944\n",
      "[5, 400] : loss = 0.05451489882543683\n",
      "[5, 600] : loss = 0.05062871180474758\n",
      "[5, 800] : loss = 0.05409223997034132\n",
      "[5, 1000] : loss = 0.06262104080524296\n",
      "[5, 1200] : loss = 0.06150763662531972\n",
      "[5, 1400] : loss = 0.050190878603607415\n",
      "[5, 1600] : loss = 0.04661607674323023\n",
      "[5, 1800] : loss = 0.04875675180926919\n",
      "[6, 200] : loss = 0.04581507050897926\n",
      "[6, 400] : loss = 0.05066902294754982\n",
      "[6, 600] : loss = 0.045631807576864955\n",
      "[6, 800] : loss = 0.03664450605399907\n",
      "[6, 1000] : loss = 0.042286356617696585\n",
      "[6, 1200] : loss = 0.05423780168872327\n",
      "[6, 1400] : loss = 0.04877539588138461\n",
      "[6, 1600] : loss = 0.052253393167629836\n",
      "[6, 1800] : loss = 0.049885830748826264\n",
      "[7, 200] : loss = 0.03786121556535363\n",
      "[7, 400] : loss = 0.04940170770511031\n",
      "[7, 600] : loss = 0.04113029947504401\n",
      "[7, 800] : loss = 0.03842532044276595\n",
      "[7, 1000] : loss = 0.04636531248688698\n",
      "[7, 1200] : loss = 0.055909212622791526\n",
      "[7, 1400] : loss = 0.04846088776364923\n",
      "[7, 1600] : loss = 0.04128356902860105\n",
      "[7, 1800] : loss = 0.05220633080229163\n",
      "[8, 200] : loss = 0.0363108148984611\n",
      "[8, 400] : loss = 0.05283076204825193\n",
      "[8, 600] : loss = 0.061188376201316716\n",
      "[8, 800] : loss = 0.0450602915789932\n",
      "[8, 1000] : loss = 0.05412435605190694\n",
      "[8, 1200] : loss = 0.06345649542286992\n",
      "[8, 1400] : loss = 0.033359581641852855\n",
      "[8, 1600] : loss = 0.04499831195920706\n",
      "[8, 1800] : loss = 0.041812355443835256\n",
      "[9, 200] : loss = 0.035386176956817506\n",
      "[9, 400] : loss = 0.028031642222777008\n",
      "[9, 600] : loss = 0.038889802433550356\n",
      "[9, 800] : loss = 0.045171345174312594\n",
      "[9, 1000] : loss = 0.06671884105540812\n",
      "[9, 1200] : loss = 0.04829364695586264\n",
      "[9, 1400] : loss = 0.03908928115852177\n",
      "[9, 1600] : loss = 0.03471620441414416\n",
      "[9, 1800] : loss = 0.04594986240612343\n",
      "[10, 200] : loss = 0.028534576995298266\n",
      "[10, 400] : loss = 0.02875998799689114\n",
      "[10, 600] : loss = 0.049184105060994625\n",
      "[10, 800] : loss = 0.06771608495619148\n",
      "[10, 1000] : loss = 0.03670304822269827\n",
      "[10, 1200] : loss = 0.03853571592830121\n",
      "[10, 1400] : loss = 0.04288175990572199\n",
      "[10, 1600] : loss = 0.0398445903765969\n",
      "[10, 1800] : loss = 0.05222751926165074\n",
      "Training Finished\n",
      "total time taken : 113.1874041557312s\n"
     ]
    }
   ],
   "source": [
    "start_time = time.time()\n",
    "# Training the network\n",
    "epochs = 10\n",
    "for e in range(epochs):\n",
    "    running_loss = 0.0\n",
    "    for i, data in enumerate(train_loader):\n",
    "        # loading data\n",
    "        X, y = data\n",
    "        X = X.view(-1, 784)\n",
    "        X = X.to(device)\n",
    "        y = y.to(device)\n",
    "        # Zero the gradient\n",
    "        gpu_optimizer.zero_grad()\n",
    "        pred = gpu_net(X)\n",
    "        loss = gpu_criterion(pred, y)\n",
    "        loss.backward()\n",
    "        gpu_optimizer.step()\n",
    "        \n",
    "        running_loss += loss.item() \n",
    "        if i % 200 == 199:\n",
    "            # Printing average loss of 200 batches\n",
    "            print('[{}, {}] : loss = {}'.format(e + 1, i + 1, running_loss / 200.0))\n",
    "            running_loss = 0.0\n",
    "end_time = time.time()\n",
    "print('Training Finished')\n",
    "print('total time taken : {}s'.format(end_time - start_time))"
   ]
  },
  {
   "cell_type": "code",
   "execution_count": 108,
   "metadata": {},
   "outputs": [],
   "source": [
    "# Testing model\n",
    "wrong_predictions = 0\n",
    "for i, data in enumerate(test_loader):\n",
    "    images, labels = data\n",
    "    labels = labels.detach().numpy()\n",
    "    images = images.view(-1, 784)\n",
    "    pred = gpu_net.to('cpu')(images)\n",
    "    pred = torch.max(pred, 1)[1]\n",
    "    pred = pred.detach().numpy()\n",
    "    for p, l in zip(pred, labels):\n",
    "        if p != l:\n",
    "            wrong_predictions += 1"
   ]
  },
  {
   "cell_type": "code",
   "execution_count": 109,
   "metadata": {},
   "outputs": [
    {
     "data": {
      "text/plain": [
       "243"
      ]
     },
     "execution_count": 109,
     "metadata": {},
     "output_type": "execute_result"
    }
   ],
   "source": [
    "wrong_predictions"
   ]
  }
 ],
 "metadata": {
  "kernelspec": {
   "display_name": "Python 3",
   "language": "python",
   "name": "python3"
  },
  "language_info": {
   "codemirror_mode": {
    "name": "ipython",
    "version": 3
   },
   "file_extension": ".py",
   "mimetype": "text/x-python",
   "name": "python",
   "nbconvert_exporter": "python",
   "pygments_lexer": "ipython3",
   "version": "3.6.5"
  }
 },
 "nbformat": 4,
 "nbformat_minor": 2
}
