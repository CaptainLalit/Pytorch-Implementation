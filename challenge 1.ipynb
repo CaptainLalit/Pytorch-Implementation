{
 "cells": [
  {
   "cell_type": "code",
   "execution_count": 1,
   "metadata": {},
   "outputs": [
    {
     "name": "stdout",
     "output_type": "stream",
     "text": [
      "Enter starting number: 10\n"
     ]
    }
   ],
   "source": [
    "# Input of user\n",
    "start = int(input('Enter starting number: '))\n",
    "# Making a square of 4 x 4\n",
    "magic_square = [([j for j in range(i, i + 4)]) for i in [start, start + 4, start + 8, start + 12]]"
   ]
  },
  {
   "cell_type": "code",
   "execution_count": 2,
   "metadata": {},
   "outputs": [],
   "source": [
    "# Swap function\n",
    "def swap(square, loc1, loc2):\n",
    "    temp = square[loc1[0]][loc1[1]]\n",
    "    square[loc1[0]][loc1[1]] = square[loc2[0]][loc2[1]]\n",
    "    square[loc2[0]][loc2[1]] = temp\n",
    "    return square"
   ]
  },
  {
   "cell_type": "code",
   "execution_count": 3,
   "metadata": {},
   "outputs": [],
   "source": [
    "# Converting into magic square\n",
    "def convert_into_magic_sqaure(square):\n",
    "    swap(square, [0, 0], [3, 3])\n",
    "    swap(square, [0, 3], [3, 0])\n",
    "    swap(square, [1, 1], [2, 2])\n",
    "    swap(square, [1, 2], [2, 1])"
   ]
  },
  {
   "cell_type": "code",
   "execution_count": 4,
   "metadata": {},
   "outputs": [],
   "source": [
    "convert_into_magic_sqaure(magic_square)"
   ]
  },
  {
   "cell_type": "code",
   "execution_count": 5,
   "metadata": {},
   "outputs": [
    {
     "name": "stdout",
     "output_type": "stream",
     "text": [
      "25 11 12 22\n",
      "14 20 19 17\n",
      "18 16 15 21\n",
      "13 23 24 10\n"
     ]
    }
   ],
   "source": [
    "# Printing the square\n",
    "for i in magic_square:\n",
    "    print('{} {} {} {}'.format(i[0], i[1], i[2], i[3]))"
   ]
  },
  {
   "cell_type": "markdown",
   "metadata": {},
   "source": [
    "### Resources"
   ]
  },
  {
   "cell_type": "code",
   "execution_count": 6,
   "metadata": {},
   "outputs": [
    {
     "data": {
      "text/plain": [
       "True"
      ]
     },
     "execution_count": 6,
     "metadata": {},
     "output_type": "execute_result"
    }
   ],
   "source": [
    "import webbrowser\n",
    "webbrowser.open('https://www.youtube.com/watch?v=MCGU5o4j9Mw')"
   ]
  }
 ],
 "metadata": {
  "kernelspec": {
   "display_name": "Python 3",
   "language": "python",
   "name": "python3"
  },
  "language_info": {
   "codemirror_mode": {
    "name": "ipython",
    "version": 3
   },
   "file_extension": ".py",
   "mimetype": "text/x-python",
   "name": "python",
   "nbconvert_exporter": "python",
   "pygments_lexer": "ipython3",
   "version": "3.6.5"
  }
 },
 "nbformat": 4,
 "nbformat_minor": 2
}
